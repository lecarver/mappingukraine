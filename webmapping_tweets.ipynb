{
  "cells": [
    {
      "cell_type": "code",
      "execution_count": null,
      "metadata": {
        "colab": {
          "base_uri": "https://localhost:8080/"
        },
        "id": "rakVonIH0zOa",
        "outputId": "12de5c2b-154c-4d72-e671-10982ca707f8"
      },
      "outputs": [
        {
          "output_type": "stream",
          "name": "stdout",
          "text": [
            "Mounted at /content/gdrive\n"
          ]
        }
      ],
      "source": [
        "# Access google drive\n",
        "from google.colab import drive\n",
        "drive.mount('/content/gdrive')"
      ]
    },
    {
      "cell_type": "code",
      "execution_count": null,
      "metadata": {
        "id": "RdG5KL_RAchb"
      },
      "outputs": [],
      "source": [
        "# export data to google drive, the path:\n",
        "out_path = '/content/gdrive/My Drive/webmapping/'"
      ]
    },
    {
      "cell_type": "markdown",
      "metadata": {
        "id": "oZXzLVceCaJt"
      },
      "source": [
        "# Install snscrape and related packages"
      ]
    },
    {
      "cell_type": "code",
      "execution_count": null,
      "metadata": {
        "id": "Hq2cPKpC2nHh"
      },
      "outputs": [],
      "source": [
        "!pip install snscrape\n",
        "!pip install pandas"
      ]
    },
    {
      "cell_type": "code",
      "execution_count": null,
      "metadata": {
        "id": "Uld2h6na3G-x"
      },
      "outputs": [],
      "source": [
        "import snscrape.modules.twitter as sntwitter\n",
        "import pandas as pd\n",
        "from datetime import datetime \n",
        "import os\n",
        "import itertools"
      ]
    },
    {
      "cell_type": "code",
      "execution_count": null,
      "metadata": {
        "id": "1Mnvu-ajTZcw"
      },
      "outputs": [],
      "source": [
        "#USING FOR LOOP TO CREATE QUERY OUTSIDE OF LOOP FOR SEARCHING\n",
        "# Creates empty lists to append query terms and tweet search results to\n",
        "tweets_list = []\n",
        "query_list = []\n",
        "\n",
        "# Creates Arrays for monthly periods and list of search terms\n",
        "date_array = [['2022-02-01', '2022-03-01'], ['2022-03-01', '2022-04-01'], ['2022-04-01', '2022-05-01'], ['2022-05-01', '2022-06-01'], ['2022-06-01', '2022-07-01'], ['2022-07-01', '2022-08-01'], ['2022-08-01', '2022-09-01'], ['2022-09-01', '2022-10-01'], ['2022-10-01', '2022-11-01']]\n",
        "search_term = ['#StandWithUkraine', '#StopRussianAggression', '#UkraineCrisis', '#UkraineInvasion','#prayforukraine' ,'#stopputin','#staysafeukraine','#war','#ukrainewar', '#ukrainetroops', '#ukraineborder', '#ukraineNATO', '#russiantroops', '#russianborderukraine', '#russiainvade', '#стоятизукраїною', '#мирдляУкраїни', '#ПідтримайУкраїну', '#українськакриза', '#ВторгненнявУкраїну']\n",
        "\n",
        "# Sets location to centroid of each administrative area. We will run the search for each location separately.\n",
        "loc = '44.57314852, 33.65272066, 150km' \n",
        "\n",
        "# Writes the full search query and append to the query_list\n",
        "for x, y in date_array:\n",
        "  for s in search_term:\n",
        "    query = '\"' + s + ' geocode:\"' + loc + '\" since:' + x + ' until:'+ y + '\"'\n",
        "    query_list.append(query)\n",
        "\n",
        "# Runs each query separately and appends to tweets_list\n",
        "for l in query_list:\n",
        "  for i,tweet in enumerate(sntwitter.TwitterSearchScraper(l.format(loc)).get_items()):\n",
        "    tweets_list.append([tweet.date, tweet.id])\n",
        "    \n",
        "# Creates a dataframe from the tweets list above\n",
        "tweets_df2 = pd.DataFrame(tweets_list, columns=['Datetime', 'Tweet Id'])\n",
        "tweets_df2.to_csv(out_path+\"Sevastopol'.csv\")"
      ]
    }
  ],
  "metadata": {
    "colab": {
      "provenance": []
    },
    "kernelspec": {
      "display_name": "Python 3",
      "name": "python3"
    },
    "language_info": {
      "name": "python"
    }
  },
  "nbformat": 4,
  "nbformat_minor": 0
}